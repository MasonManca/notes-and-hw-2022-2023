{
 "cells": [
  {
   "cell_type": "markdown",
   "metadata": {},
   "source": [
    "# I/O and File System"
   ]
  },
  {
   "cell_type": "markdown",
   "metadata": {},
   "source": [
    "```c\n",
    "#include <stdio.h>\n",
    "int main(void){\n",
    "    FILE *fp = fopen(\"output.txt\",\"w\");\n",
    "    if (!fp){\n",
    "        perror(\"output.txt\");\n",
    "        return 1;\n",
    "    }\n",
    "    fputs(\"baby shark (do doo dooo)\\n\", fp);\n",
    "    if(fclose(fp)){\n",
    "        perror(\"output.txt\");\n",
    "        return 1;\n",
    "    }\n",
    "    return 0;\n",
    "}\n",
    "\n",
    "FILE *fopen(const char *fname, const char *mode){\n",
    "    int fd = open(fnam, __mode2flags(mode), DEFFILEPERMS);\n",
    "    if (fd == -1){\n",
    "        return NULL;\n",
    "    }\n",
    "    return fdopen(fd, mode);\n",
    "}\n",
    "\n",
    "int fclose (FILE *fp){\n",
    "    int rv = close(fp->fd);\n",
    "    __ffree(fp);\n",
    "    return rv;\n",
    "}\n",
    "\n",
    "```\n",
    "\n",
    "```asm\n",
    ".globl close\n",
    "close:\n",
    "    mov $3, %eax\n",
    "    syscall\n",
    "    cmp $-4096, %rax\n",
    "    jae __syscall_error\n",
    "    ret\n",
    "```"
   ]
  },
  {
   "cell_type": "markdown",
   "metadata": {},
   "source": [
    "## Unix I/O"
   ]
  },
  {
   "cell_type": "markdown",
   "metadata": {},
   "source": [
    "A Linux *file* is a sequence of `m` bytes:\n",
    "* $B_0, B_1, ... , B_k, ... , B_{m-1}$\n",
    "* Each *file* has some kind of low-level name: inode (index node) number\n",
    "  * inode points to where the data of the file is stored\n",
    "\n",
    "All I/O devices are represented as file:\n",
    "* `/dev/tty2` (Terminal)\n",
    "* `/dev/sda2` (Disk Partition)\n",
    "\n",
    "Kernel data structures are exposed as files  \n",
    "* `cat /proc/$$/status` (How long it has been running)\n",
    "* `ls -l /proc/$$/fd/`"
   ]
  },
  {
   "cell_type": "markdown",
   "metadata": {},
   "source": [
    "### Types\n",
    "Two Abstractions: File and Directory\n",
    "* File:\n",
    "  * filename: human-readable\n",
    "  * low-level name: inode number\n",
    "* Directory\n",
    "  * low-level name: inode number\n",
    "  * contents are quite specific: pairs of (filename, inode number) or (subdirectory, inode number)\n",
    "\n",
    "Elegant mapping of files to devices allows kernel to export simple interface called Unix 1/0:\n",
    "* Opening and closing files\n",
    "  * `open()` and `close()`\n",
    "* Reading and writing a file\n",
    "  * `read()` and `write()`\n",
    "* Changing the *current file position* (seek)\n",
    "  * indicated next offset into file to read or write\n",
    "  * `lseek()`"
   ]
  },
  {
   "cell_type": "markdown",
   "metadata": {},
   "source": [
    "### Directories\n",
    "Directory consists of array of links\n",
    "* Each link maps a filename to a file\n",
    "* Pairs of (filename, inode number)\n",
    "\n",
    "Each directory contains at least two entries\n",
    "* `.` (dot) is a link to itself\n",
    "* `..` (dot dot) is a link to the parent directory in the directory hierarchy\n",
    "\n",
    "Commands for manipulating directories\n",
    "* `mkdir`: create empty\n",
    "* `ls`: list contents of directory\n",
    "* `rmdir`: remove directory\n",
    "\n",
    "All files are organized as a hierarchy anchored by root directory named `/`\n",
    "\n",
    "Kernel maintains *current working directory* `cwd`\n",
    "\n",
    "Locations of files in the hierarchy denoted by *pathnames*\n",
    "* Aboslute pathname starts with `/` and denotes path from root\n",
    "* Relative pathname denotes path from current working directory"
   ]
  },
  {
   "cell_type": "markdown",
   "metadata": {},
   "source": [
    "### Opening Files\n",
    "Opening a file informs the kernel that uou are getting ready to access that file\n",
    "\n",
    "```c\n",
    "int fd; // file descriptor\n",
    "\n",
    "if ((fd = open(\"/etc/hosts\", O_RDONLY)) < 0){\n",
    "    perror(\"open\");\n",
    "...\n",
    "```\n",
    "\n",
    "file descriptor:\n",
    "* an integer\n",
    "* like a pointer to an object of type file; you can call methods to this\n",
    "* like a “pointer” to an object of type file; you can call “methods” to access the file: read(), write() \n",
    "\n",
    "When you first open a file, the file descriptor is 3\n",
    "\n",
    "Each running process already has three files open:\n",
    "* standard input (which the process can read to receive input)\n",
    "* standard output (which the process can write to in order to dump information to the screen)\n",
    "* standard error (which the process can write error messages to)\n",
    "* These are represented by file descriptors 0, 1, and 2, respectively"
   ]
  },
  {
   "cell_type": "markdown",
   "metadata": {},
   "source": [
    "### Closing files\n",
    "Closing a file informs the kernel that you are finished accessing that file\n",
    "```c\n",
    "if (close(fd) < 0) {\n",
    "   fprintf(stderr, \"%s: write error: %s\",\n",
    "exit(1);filename, strerror(errno));\n",
    "}\n",
    "```\n",
    "Moral: Always check return codes, even for seemingly benign functions such as close()"
   ]
  },
  {
   "cell_type": "markdown",
   "metadata": {},
   "source": [
    "### Reading Files\n",
    "Reading a file copies bytes from the current file position, and then updates file position\n",
    "```c\n",
    "char buf[512];\n",
    "int fd;       /* file descriptor */\n",
    "int nbytes;   /* number of bytes read */\n",
    "/* Open file fd ...  */\n",
    "/* Then read up to 512 bytes from file fd */\n",
    "if ((nbytes = read(fd, buf, sizeof(buf))) < 0) {\n",
    "}\n",
    "perror(\"read\");\n",
    "exit(1);\n",
    "```\n",
    "Returns the number of bytes read from file `fd` into `buf`\n",
    "* Return types size_t is signed integer\n",
    "* nbytes < 0 indicates that an error occurred\n",
    "* Shortcounts`(nbytes<sizeof(buf))` are possible and are not errors!"
   ]
  },
  {
   "cell_type": "markdown",
   "metadata": {},
   "source": [
    "### Writing Files\n",
    "Writing a file copies bytes to the current file position, and then updates current file position\n",
    "```c\n",
    "char buf[512];\n",
    "int fd;       /* file descriptor */\n",
    "int nbytes;   /* number of bytes read */\n",
    "/* Open the file fd ... */\n",
    "/* Then write up to 512 bytes from buf to file fd */ if ((nbytes = write(fd, buf, sizeof(buf)) < 0) {\n",
    "}\n",
    "perror(\"write\");\n",
    "exit(1);\n",
    "```\n",
    "Returns number of bytes written from `buf` to file `fd`\n",
    "* nbytes < 0 indicates that an error occurred  \n",
    "* As with reads, short counts are possible and are not errors!"
   ]
  },
  {
   "cell_type": "markdown",
   "metadata": {},
   "source": [
    "### File Metadata\n",
    "Each file has an inode that stores *Metadata* (data about file data). This is maintained by kernel"
   ]
  },
  {
   "cell_type": "markdown",
   "metadata": {},
   "source": [
    "### Practice\n",
    "1.\tWhat is the output of the following program?\n",
    "```c\n",
    "int main(){\n",
    "    int fd1, fd2;\n",
    "    fd1 = open(“foo.txt”, O_RDONLY, 0);\n",
    "    close(fd1);\n",
    "    fd2 = open(‘baz.txt’, O_RDONLY, 0);\n",
    "    printf(“fd2 = %d\\n”, fd2);\n",
    "    exit(0);\n",
    "} \n",
    "```\n",
    "Output: `3`\n",
    "\n",
    "2.\tSuppose the disk file foobar.txt consists of the six ASCII characters foobar. What is the output of the following program?\n",
    "```c\n",
    "int main(){\n",
    "    int fd1, fd2;\n",
    "    char c;\n",
    "    fd1 = open(“foobar.txt”, O_RDONLY, 0);\n",
    "    fd2 = open(“foobar.txt”, O_RDONLY, 0);\n",
    "    read(fd1, &c, 1);\n",
    "    read(fd2, &c, 1);\n",
    "    printf(“c = %c\\n”, c);\n",
    "    exit(0);\n",
    "} \n",
    "```\n",
    "\n",
    "Output: 'f'\n",
    "\n",
    "3.\tSuppose the disk file foobar.txt consists of the six ASCII characters foobar. What is the output of the following program?\n",
    "```c\n",
    "int main(){\n",
    "    int fd;\n",
    "    char c;\n",
    "    fd = open(“foobar.txt”, O_RDONLY, 0);\n",
    "    if (fork()==0){\n",
    "    \tread(fd, &c, 1);\n",
    "    \texit(0);\n",
    "    }\n",
    "    Wait(NULL);\n",
    "     read(fd, &c, 1);\n",
    "    printf(“c = %c\\n”, c);\n",
    "    exit(0);\n",
    "} \n",
    "```\n",
    "\n",
    "Output: c = 'o'"
   ]
  }
 ],
 "metadata": {
  "kernelspec": {
   "display_name": "Python 3.9.13 ('base')",
   "language": "python",
   "name": "python3"
  },
  "language_info": {
   "codemirror_mode": {
    "name": "ipython",
    "version": 3
   },
   "file_extension": ".py",
   "mimetype": "text/x-python",
   "name": "python",
   "nbconvert_exporter": "python",
   "pygments_lexer": "ipython3",
   "version": "3.9.13"
  },
  "orig_nbformat": 4,
  "vscode": {
   "interpreter": {
    "hash": "cd78fef2128015050713e82ca51c6520b11aee7c9ee8df750520bbbc7384cbaa"
   }
  }
 },
 "nbformat": 4,
 "nbformat_minor": 2
}
