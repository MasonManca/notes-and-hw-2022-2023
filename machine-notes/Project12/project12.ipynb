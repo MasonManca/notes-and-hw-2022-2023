{
 "cells": [
  {
   "cell_type": "markdown",
   "metadata": {},
   "source": [
    "## Mason Manca\n",
    "## CPSC 323 \n",
    "## Prof. Morehead\n",
    "## Project 12: <center> Neural Networks 4 </center>"
   ]
  },
  {
   "cell_type": "code",
   "execution_count": 3,
   "metadata": {},
   "outputs": [],
   "source": [
    "# Cell for importing python modules/libraries\n",
    "import os \n",
    "import time as tm\n",
    "import numpy as np \n",
    "import pandas as pd\n",
    "import tensorflow as tf \n",
    "from tensorflow import keras \n",
    "from tensorflow.keras import layers\n",
    "from keras.datasets import mnist\n",
    "from keras.utils import to_categorical\n",
    "from keras.models import Sequential\n",
    "from keras.models import load_model\n",
    "from keras.layers import Dense \n",
    "from keras.layers import Activation\n",
    "from scipy.stats import pearsonr\n",
    "import matplotlib.image as mpimg\n",
    "import seaborn as sns \n",
    "import matplotlib.pyplot as plt\n"
   ]
  },
  {
   "cell_type": "code",
   "execution_count": null,
   "metadata": {},
   "outputs": [],
   "source": [
    "# Cell for defining model class and respective methods\n",
    "class Model():\n",
    "    \n",
    "    def __init__(self, data):\n",
    "        self.X_train = self.y_train = self.X_test = self.y_test = pd.DataFrame()\n",
    "        self.train_time = 0\n",
    "        self.model = None # unsure how to prepare sequential model initialization so None it is\n",
    "        self.previous_epoch = None\n",
    "        self.split_into_sets()\n",
    "        self.predict()\n",
    "    \n",
    "    def prediction(self, data):\n",
    "\n",
    "    \n",
    "    def split_into_sets(self):\n",
    "        # Load in MNIST data set for training and testing\n",
    "        (self.X_train, self.y_train), (self.X_test, self.y_test) = mnist.load_data() # data set consisting of number classification images\n",
    "        flattened_train = [to_categorical(self.y_train[i], num_classes=10) for i in range(len(self.y_train))] # one hot encoding\n",
    "        flattened_test = [to_categorical(self.y_test[i], num_classes=10) for i in range(len(self.y_test))] \n",
    "        self.y_train = np.array(flattened_train)\n",
    "        self.y_test = np.array(flattened_test)\n",
    "    "
   ]
  },
  {
   "cell_type": "code",
   "execution_count": null,
   "metadata": {},
   "outputs": [],
   "source": []
  }
 ],
 "metadata": {
  "kernelspec": {
   "display_name": "Python 3.9.13 ('base')",
   "language": "python",
   "name": "python3"
  },
  "language_info": {
   "codemirror_mode": {
    "name": "ipython",
    "version": 3
   },
   "file_extension": ".py",
   "mimetype": "text/x-python",
   "name": "python",
   "nbconvert_exporter": "python",
   "pygments_lexer": "ipython3",
   "version": "3.9.13"
  },
  "orig_nbformat": 4,
  "vscode": {
   "interpreter": {
    "hash": "cd78fef2128015050713e82ca51c6520b11aee7c9ee8df750520bbbc7384cbaa"
   }
  }
 },
 "nbformat": 4,
 "nbformat_minor": 2
}
