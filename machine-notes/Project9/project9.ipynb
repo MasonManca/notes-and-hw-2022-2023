{
 "cells": [
  {
   "cell_type": "markdown",
   "metadata": {},
   "source": [
    "### Mason Manca\n",
    "### CPSC 323\n",
    "### Prof. Morehead\n",
    "### 3 November 2022"
   ]
  },
  {
   "cell_type": "markdown",
   "metadata": {},
   "source": [
    "#### First we must read in the data, and split it into train/test"
   ]
  },
  {
   "cell_type": "code",
   "execution_count": 5,
   "metadata": {},
   "outputs": [],
   "source": [
    "import pandas as pd\n",
    "import numpy as np\n",
    "import time as tm\n",
    "import tensorflow as tf\n",
    "from tensorflow import keras \n",
    "from tensorflow.keras import layers\n",
    "from sklearn.metrics import confusion_matrix\n",
    "import matplotlib.pyplot as plt\n",
    "from sklearn import metrics\n",
    "from scipy.stats import pearsonr\n"
   ]
  },
  {
   "cell_type": "code",
   "execution_count": 6,
   "metadata": {},
   "outputs": [],
   "source": [
    "class Model():\n",
    "    # Initializing variables\n",
    "    def __init__(self):\n",
    "        self.train_df = self.val_df = self.X_train = self.X_val = self.y_train = self.y_val = pd.DataFrame()\n",
    "        self.num_features = []\n",
    "    \n",
    "    def split_into_sets(self,df):\n",
    "        self.train_df = df.sample(frac=0.75, random_state=4)\n",
    "        self.val_df = df.drop(self.train_df.index)\n",
    "        \n",
    "        max_val = self.train_df.max(axis= 0)\n",
    "        min_val = self.train_df.min(axis= 0)\n",
    " \n",
    "        # Scaling our data so it is in the same range\n",
    "        range = max_val - min_val\n",
    "        self.train_df = (self.train_df - min_val)/(range)\n",
    " \n",
    "        self.val_df =  (self.val_df- min_val)/range\n",
    "        \n",
    "        # Splitting the data into training and testing data\n",
    "\n",
    "        self.X_train = self.train_df.drop('Head Size(cm^3)',axis=1) # targets \n",
    "        self.X_val = self.val_df.drop('Head Size(cm^3)',axis=1) # label\n",
    "        self.y_train = self.train_df['Brain Weight(grams)'] # targets\n",
    "        self.y_val = self.val_df['Brain Weight(grams)'] # label\n",
    "\n",
    "        self.num_features = [self.X_train.shape[1]]\n",
    "        print(self.num_features)\n",
    "       \n",
    "\n",
    "    def linearModel(self):\n",
    "        model = tf.keras.Sequential([\n",
    "        tf.keras.layers.Dense(units=1,input_shape=self.num_features)])\n",
    "\n",
    "    def createNetwork(self):\n",
    "        sequentialModel = tf.keras.Sequential([\n",
    " \n",
    "        tf.keras.layers.Dense(units=64, activation='relu', input_shape=self.num_features),\n",
    "        tf.keras.layers.Dense(units=64, activation='relu'),\n",
    "        tf.keras.layers.Dense(units=1)])\n",
    "        \n",
    "        sequentialModel.compile(optimizer='adam',loss='mse',metrics=['mae','mse'])\n",
    "\n",
    "        sequentialModel.summary()\n",
    "        return sequentialModel\n",
    "\n",
    "    def calculateLosses(self, sequentialModel):\n",
    "        losses = sequentialModel.fit(self.X_train, self.y_train, \n",
    "        validation_data=(self.X_val, self.y_val),batch_size=35,epochs=20) # number of epochs\n",
    "\n",
    "        sequentialModel.predict(self.X_val.iloc[0:3, :])\n",
    "        return losses\n",
    "\n",
    "    def plotting(self, losses):\n",
    "        \n",
    "        loss_df = pd.DataFrame(losses.history)\n",
    "        loss_df.loc[:,['loss','val_loss']].plot()\n",
    "        plt.title('Loss')\n",
    "\n",
    "    def analysis(self,timeOfModel, sequentialModel):\n",
    "        # Compute analytics\n",
    "        y_pred = sequentialModel.predict(self.X_val)\n",
    "        scores = sequentialModel.evaluate(self.X_val, self.y_val, verbose=0)\n",
    "        pearson_val = float(pearsonr(self.y_val, y_pred)[0])\n",
    "        \n",
    "        # Print analytics\n",
    "        print(\"Speed of Model (s): \", round(timeOfModel,4))\n",
    "        print(\"Mean Absolute Error: \", round(scores[1],4))\n",
    "        print(\"Mean Squared Error: \", round(scores[2],4))\n",
    "        print(\"Pearson Correlation: \", round(pearson_val,4))    \n",
    "\n",
    "    "
   ]
  },
  {
   "cell_type": "code",
   "execution_count": 7,
   "metadata": {},
   "outputs": [
    {
     "name": "stdout",
     "output_type": "stream",
     "text": [
      "[3]\n",
      "Model: \"sequential_3\"\n",
      "_________________________________________________________________\n",
      " Layer (type)                Output Shape              Param #   \n",
      "=================================================================\n",
      " dense_5 (Dense)             (None, 64)                256       \n",
      "                                                                 \n",
      " dense_6 (Dense)             (None, 64)                4160      \n",
      "                                                                 \n",
      " dense_7 (Dense)             (None, 1)                 65        \n",
      "                                                                 \n",
      "=================================================================\n",
      "Total params: 4,481\n",
      "Trainable params: 4,481\n",
      "Non-trainable params: 0\n",
      "_________________________________________________________________\n",
      "Epoch 1/20\n",
      "6/6 [==============================] - 0s 20ms/step - loss: 0.1794 - mae: 0.3908 - mse: 0.1794 - val_loss: 0.0573 - val_mae: 0.2105 - val_mse: 0.0573\n",
      "Epoch 2/20\n",
      "6/6 [==============================] - 0s 4ms/step - loss: 0.0380 - mae: 0.1583 - mse: 0.0380 - val_loss: 0.0192 - val_mae: 0.1148 - val_mse: 0.0192\n",
      "Epoch 3/20\n",
      "6/6 [==============================] - 0s 5ms/step - loss: 0.0277 - mae: 0.1389 - mse: 0.0277 - val_loss: 0.0211 - val_mae: 0.1147 - val_mse: 0.0211\n",
      "Epoch 4/20\n",
      "6/6 [==============================] - 0s 5ms/step - loss: 0.0221 - mae: 0.1182 - mse: 0.0221 - val_loss: 0.0094 - val_mae: 0.0741 - val_mse: 0.0094\n",
      "Epoch 5/20\n",
      "6/6 [==============================] - 0s 5ms/step - loss: 0.0081 - mae: 0.0673 - mse: 0.0081 - val_loss: 0.0052 - val_mae: 0.0527 - val_mse: 0.0052\n",
      "Epoch 6/20\n",
      "6/6 [==============================] - 0s 4ms/step - loss: 0.0049 - mae: 0.0523 - mse: 0.0049 - val_loss: 0.0063 - val_mae: 0.0603 - val_mse: 0.0063\n",
      "Epoch 7/20\n",
      "6/6 [==============================] - 0s 5ms/step - loss: 0.0048 - mae: 0.0516 - mse: 0.0048 - val_loss: 0.0040 - val_mae: 0.0508 - val_mse: 0.0040\n",
      "Epoch 8/20\n",
      "6/6 [==============================] - 0s 4ms/step - loss: 0.0030 - mae: 0.0449 - mse: 0.0030 - val_loss: 0.0029 - val_mae: 0.0456 - val_mse: 0.0029\n",
      "Epoch 9/20\n",
      "6/6 [==============================] - 0s 4ms/step - loss: 0.0028 - mae: 0.0448 - mse: 0.0028 - val_loss: 0.0022 - val_mae: 0.0384 - val_mse: 0.0022\n",
      "Epoch 10/20\n",
      "6/6 [==============================] - 0s 4ms/step - loss: 0.0019 - mae: 0.0352 - mse: 0.0019 - val_loss: 0.0017 - val_mae: 0.0323 - val_mse: 0.0017\n",
      "Epoch 11/20\n",
      "6/6 [==============================] - 0s 4ms/step - loss: 0.0014 - mae: 0.0294 - mse: 0.0014 - val_loss: 0.0017 - val_mae: 0.0313 - val_mse: 0.0017\n",
      "Epoch 12/20\n",
      "6/6 [==============================] - 0s 4ms/step - loss: 0.0012 - mae: 0.0261 - mse: 0.0012 - val_loss: 0.0012 - val_mae: 0.0255 - val_mse: 0.0012\n",
      "Epoch 13/20\n",
      "6/6 [==============================] - 0s 4ms/step - loss: 0.0010 - mae: 0.0246 - mse: 0.0010 - val_loss: 0.0011 - val_mae: 0.0263 - val_mse: 0.0011\n",
      "Epoch 14/20\n",
      "6/6 [==============================] - 0s 4ms/step - loss: 8.2969e-04 - mae: 0.0231 - mse: 8.2969e-04 - val_loss: 8.3343e-04 - val_mae: 0.0217 - val_mse: 8.3343e-04\n",
      "Epoch 15/20\n",
      "6/6 [==============================] - 0s 4ms/step - loss: 6.0053e-04 - mae: 0.0188 - mse: 6.0053e-04 - val_loss: 7.9648e-04 - val_mae: 0.0220 - val_mse: 7.9648e-04\n",
      "Epoch 16/20\n",
      "6/6 [==============================] - 0s 4ms/step - loss: 4.8824e-04 - mae: 0.0167 - mse: 4.8824e-04 - val_loss: 5.2688e-04 - val_mae: 0.0169 - val_mse: 5.2688e-04\n",
      "Epoch 17/20\n",
      "6/6 [==============================] - 0s 4ms/step - loss: 4.1537e-04 - mae: 0.0149 - mse: 4.1537e-04 - val_loss: 4.7364e-04 - val_mae: 0.0164 - val_mse: 4.7364e-04\n",
      "Epoch 18/20\n",
      "6/6 [==============================] - 0s 4ms/step - loss: 3.8263e-04 - mae: 0.0143 - mse: 3.8263e-04 - val_loss: 3.7644e-04 - val_mae: 0.0147 - val_mse: 3.7644e-04\n",
      "Epoch 19/20\n",
      "6/6 [==============================] - 0s 4ms/step - loss: 2.9576e-04 - mae: 0.0125 - mse: 2.9576e-04 - val_loss: 3.5233e-04 - val_mae: 0.0144 - val_mse: 3.5233e-04\n",
      "Epoch 20/20\n",
      "6/6 [==============================] - 0s 4ms/step - loss: 2.5104e-04 - mae: 0.0112 - mse: 2.5104e-04 - val_loss: 2.5255e-04 - val_mae: 0.0111 - val_mse: 2.5255e-04\n",
      "1/1 [==============================] - 0s 34ms/step\n"
     ]
    }
   ],
   "source": [
    "# Cell for everything except methods and anaylytics \n",
    "Model = Model()\n",
    "\n",
    "df = pd.read_csv('brain_weight.csv')\n",
    "\n",
    "Model.split_into_sets(df)\n",
    "Model.linearModel()\n",
    "sequentialModel = Model.createNetwork()\n",
    "t0 = tm.time()\n",
    "losses = Model.calculateLosses(sequentialModel)\n",
    "timeOfModel = tm.time() - t0"
   ]
  },
  {
   "cell_type": "markdown",
   "metadata": {},
   "source": [
    "### Determining best batch and epoch size for lowest MSE/MAE\n",
    "### Prev Epochs:\n",
    "* BS: 35 | EP: 20 .0826 ***\n",
    "* BS: 30 | EP: 20 .0868\n",
    "* BS: 50 | EP: 15 .0921\n",
    "* BS: 35 | EP: 25 .0921\n",
    "* BS: 20 | EP: 25 .0921\n",
    "<br>\n",
    "\n",
    "#### Since we achieved the best result with a batch-size of 35, and 20 epochs; that is the specifications we are going to choose.\n",
    "<br>\n",
    "\n",
    "### Now we will perform the analytics on our model:"
   ]
  },
  {
   "cell_type": "code",
   "execution_count": 8,
   "metadata": {},
   "outputs": [
    {
     "data": {
      "image/png": "[encoded data removed]",
      "text/plain": [
       "<Figure size 640x480 with 1 Axes>"
      ]
     },
     "metadata": {},
     "output_type": "display_data"
    }
   ],
   "source": [
    "Model.plotting(losses)"
   ]
  },
  {
   "cell_type": "code",
   "execution_count": 9,
   "metadata": {},
   "outputs": [
    {
     "name": "stdout",
     "output_type": "stream",
     "text": [
      "2/2 [==============================] - 0s 1ms/step\n",
      "Speed of Model (s):  0.8668\n",
      "Mean Absolute Error:  0.0111\n",
      "Mean Squared Error:  0.0003\n",
      "Pearson Correlation:  0.9973\n"
     ]
    }
   ],
   "source": [
    "Model.analysis(timeOfModel, sequentialModel)"
   ]
  },
  {
   "cell_type": "markdown",
   "metadata": {},
   "source": [
    "### Analysis:\n",
    "\n",
    "##### MSE/MAE: As we can see, with a Mean Absolute Error of .021 and a Mean Squared error of .0007 our model is very accurate with only 3 layers in the neural network.\n",
    "\n",
    "##### Pearson Correlation (-1 < P_val > 1): Since we are using a regression based model, and not classification, I find it better to use a Pearson Correlation rather than accuracy. The Pearson Correlation measures a parametric correlation on a distribution of linear data. With a value of .9909, our model is extremely good at predicting the weight of someone's brain."
   ]
  }
 ],
 "metadata": {
  "kernelspec": {
   "display_name": "Python 3.9.12 ('base')",
   "language": "python",
   "name": "python3"
  },
  "language_info": {
   "codemirror_mode": {
    "name": "ipython",
    "version": 3
   },
   "file_extension": ".py",
   "mimetype": "text/x-python",
   "name": "python",
   "nbconvert_exporter": "python",
   "pygments_lexer": "ipython3",
   "version": "3.9.13"
  },
  "orig_nbformat": 4,
  "vscode": {
   "interpreter": {
    "hash": "cd78fef2128015050713e82ca51c6520b11aee7c9ee8df750520bbbc7384cbaa"
   }
  }
 },
 "nbformat": 4,
 "nbformat_minor": 2
}
