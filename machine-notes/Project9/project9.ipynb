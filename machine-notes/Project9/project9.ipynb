{
 "cells": [
  {
   "cell_type": "markdown",
   "metadata": {},
   "source": [
    "### Mason Manca\n",
    "### CPSC 323\n",
    "### Prof. Morehead\n",
    "### 3 November 2022"
   ]
  },
  {
   "cell_type": "markdown",
   "metadata": {},
   "source": [
    "#### First we must read in the data, and split it into train/test"
   ]
  },
  {
   "cell_type": "code",
   "execution_count": 1,
   "metadata": {},
   "outputs": [],
   "source": [
    "import pandas as pd\n",
    "import numpy as np\n",
    "import time as tm\n",
    "import tensorflow as tf\n",
    "from tensorflow import keras \n",
    "from tensorflow.keras import layers\n",
    "from sklearn.metrics import confusion_matrix\n",
    "import matplotlib.pyplot as plt\n",
    "from sklearn import metrics\n",
    "from scipy.stats import pearsonr\n"
   ]
  },
  {
   "cell_type": "code",
   "execution_count": 2,
   "metadata": {},
   "outputs": [],
   "source": [
    "class Model():\n",
    "    # Initializing variables\n",
    "    def __init__(self):\n",
    "        self.train_df = self.val_df = self.X_train = self.X_val = self.y_train = self.y_val = pd.DataFrame()\n",
    "        self.num_features = []\n",
    "    \n",
    "    def split_into_sets(self,df):\n",
    "        self.train_df = df.sample(frac=0.75, random_state=4)\n",
    "        self.val_df = df.drop(self.train_df.index)\n",
    "        \n",
    "        max_val = self.train_df.max(axis= 0)\n",
    "        min_val = self.train_df.min(axis= 0)\n",
    " \n",
    "        # Scaling our data so it is in the same range\n",
    "        range = max_val - min_val\n",
    "        self.train_df = (self.train_df - min_val)/(range)\n",
    " \n",
    "        self.val_df =  (self.val_df- min_val)/range\n",
    "        \n",
    "        # Splitting the data into training and testing data\n",
    "\n",
    "        self.X_train = self.train_df.drop('Head Size(cm^3)',axis=1) # targets \n",
    "        self.X_val = self.val_df.drop('Head Size(cm^3)',axis=1) # label\n",
    "        self.y_train = self.train_df['Brain Weight(grams)'] # targets\n",
    "        self.y_val = self.val_df['Brain Weight(grams)'] # label\n",
    "\n",
    "        self.num_features = [self.X_train.shape[1]]\n",
    "        print(self.num_features)\n",
    "       \n",
    "\n",
    "    def linearModel(self):\n",
    "        model = tf.keras.Sequential([\n",
    "        tf.keras.layers.Dense(units=1,input_shape=self.num_features)])\n",
    "\n",
    "    def createNetwork(self):\n",
    "        sequentialModel = tf.keras.Sequential([\n",
    " \n",
    "        tf.keras.layers.Dense(units=64, activation='relu', input_shape=self.num_features),\n",
    "        tf.keras.layers.Dense(units=64, activation='relu'),\n",
    "        tf.keras.layers.Dense(units=1)])\n",
    "        \n",
    "        sequentialModel.compile(optimizer='adam',loss='mse',metrics=['mae','mse'])\n",
    "\n",
    "        sequentialModel.summary()\n",
    "        return sequentialModel\n",
    "\n",
    "    def calculateLosses(self, sequentialModel):\n",
    "        losses = sequentialModel.fit(self.X_train, self.y_train, \n",
    "        validation_data=(self.X_val, self.y_val),batch_size=35,epochs=20) # number of epochs\n",
    "\n",
    "        sequentialModel.predict(self.X_val.iloc[0:3, :])\n",
    "        return losses\n",
    "\n",
    "    def plotting(self, losses):\n",
    "        \n",
    "        loss_df = pd.DataFrame(losses.history)\n",
    "        loss_df.loc[:,['loss','val_loss']].plot()\n",
    "        plt.title('Loss')\n",
    "\n",
    "    def analysis(self,timeOfModel, sequentialModel):\n",
    "        # Compute analytics\n",
    "        y_pred = sequentialModel.predict(self.X_val)\n",
    "        scores = sequentialModel.evaluate(self.X_val, self.y_val, verbose=0)\n",
    "        pearson_val = float(pearsonr(self.y_val, y_pred)[0])\n",
    "        \n",
    "        # Print analytics\n",
    "        print(\"Speed of Model (s): \", round(timeOfModel,4))\n",
    "        print(\"Mean Absolute Error: \", round(scores[1],4))\n",
    "        print(\"Mean Squared Error: \", round(scores[2],4))\n",
    "        print(\"Pearson Correlation: \", round(pearson_val,4))    \n",
    "\n",
    "    "
   ]
  },
  {
   "cell_type": "code",
   "execution_count": 3,
   "metadata": {},
   "outputs": [
    {
     "name": "stdout",
     "output_type": "stream",
     "text": [
      "[3]\n",
      "Model: \"sequential_1\"\n",
      "_________________________________________________________________\n",
      " Layer (type)                Output Shape              Param #   \n",
      "=================================================================\n",
      " dense_1 (Dense)             (None, 64)                256       \n",
      "                                                                 \n",
      " dense_2 (Dense)             (None, 64)                4160      \n",
      "                                                                 \n",
      " dense_3 (Dense)             (None, 1)                 65        \n",
      "                                                                 \n",
      "=================================================================\n",
      "Total params: 4,481\n",
      "Trainable params: 4,481\n",
      "Non-trainable params: 0\n",
      "_________________________________________________________________\n",
      "Epoch 1/20\n"
     ]
    },
    {
     "name": "stderr",
     "output_type": "stream",
     "text": [
      "2022-11-14 10:32:30.863140: I tensorflow/core/platform/cpu_feature_guard.cc:193] This TensorFlow binary is optimized with oneAPI Deep Neural Network Library (oneDNN) to use the following CPU instructions in performance-critical operations:  SSE4.1 SSE4.2\n",
      "To enable them in other operations, rebuild TensorFlow with the appropriate compiler flags.\n"
     ]
    },
    {
     "name": "stdout",
     "output_type": "stream",
     "text": [
      "6/6 [==============================] - 0s 23ms/step - loss: 0.2092 - mae: 0.4258 - mse: 0.2092 - val_loss: 0.0972 - val_mae: 0.2726 - val_mse: 0.0972\n",
      "Epoch 2/20\n",
      "6/6 [==============================] - 0s 4ms/step - loss: 0.0858 - mae: 0.2360 - mse: 0.0858 - val_loss: 0.0411 - val_mae: 0.1532 - val_mse: 0.0411\n",
      "Epoch 3/20\n",
      "6/6 [==============================] - 0s 4ms/step - loss: 0.0519 - mae: 0.1818 - mse: 0.0519 - val_loss: 0.0349 - val_mae: 0.1597 - val_mse: 0.0349\n",
      "Epoch 4/20\n",
      "6/6 [==============================] - 0s 4ms/step - loss: 0.0458 - mae: 0.1824 - mse: 0.0458 - val_loss: 0.0260 - val_mae: 0.1402 - val_mse: 0.0260\n",
      "Epoch 5/20\n",
      "6/6 [==============================] - 0s 4ms/step - loss: 0.0289 - mae: 0.1458 - mse: 0.0289 - val_loss: 0.0146 - val_mae: 0.0999 - val_mse: 0.0146\n",
      "Epoch 6/20\n",
      "6/6 [==============================] - 0s 4ms/step - loss: 0.0164 - mae: 0.1067 - mse: 0.0164 - val_loss: 0.0099 - val_mae: 0.0761 - val_mse: 0.0099\n",
      "Epoch 7/20\n",
      "6/6 [==============================] - 0s 4ms/step - loss: 0.0107 - mae: 0.0830 - mse: 0.0107 - val_loss: 0.0076 - val_mae: 0.0620 - val_mse: 0.0076\n",
      "Epoch 8/20\n",
      "6/6 [==============================] - 0s 4ms/step - loss: 0.0071 - mae: 0.0654 - mse: 0.0071 - val_loss: 0.0058 - val_mae: 0.0549 - val_mse: 0.0058\n",
      "Epoch 9/20\n",
      "6/6 [==============================] - 0s 5ms/step - loss: 0.0048 - mae: 0.0527 - mse: 0.0048 - val_loss: 0.0046 - val_mae: 0.0547 - val_mse: 0.0046\n",
      "Epoch 10/20\n",
      "6/6 [==============================] - 0s 5ms/step - loss: 0.0039 - mae: 0.0502 - mse: 0.0039 - val_loss: 0.0039 - val_mae: 0.0518 - val_mse: 0.0039\n",
      "Epoch 11/20\n",
      "6/6 [==============================] - 0s 4ms/step - loss: 0.0031 - mae: 0.0450 - mse: 0.0031 - val_loss: 0.0032 - val_mae: 0.0426 - val_mse: 0.0032\n",
      "Epoch 12/20\n",
      "6/6 [==============================] - 0s 4ms/step - loss: 0.0024 - mae: 0.0380 - mse: 0.0024 - val_loss: 0.0028 - val_mae: 0.0392 - val_mse: 0.0028\n",
      "Epoch 13/20\n",
      "6/6 [==============================] - 0s 4ms/step - loss: 0.0019 - mae: 0.0339 - mse: 0.0019 - val_loss: 0.0023 - val_mae: 0.0344 - val_mse: 0.0023\n",
      "Epoch 14/20\n",
      "6/6 [==============================] - 0s 4ms/step - loss: 0.0016 - mae: 0.0295 - mse: 0.0016 - val_loss: 0.0019 - val_mae: 0.0299 - val_mse: 0.0019\n",
      "Epoch 15/20\n",
      "6/6 [==============================] - 0s 4ms/step - loss: 0.0013 - mae: 0.0260 - mse: 0.0013 - val_loss: 0.0016 - val_mae: 0.0269 - val_mse: 0.0016\n",
      "Epoch 16/20\n",
      "6/6 [==============================] - 0s 4ms/step - loss: 0.0011 - mae: 0.0233 - mse: 0.0011 - val_loss: 0.0013 - val_mae: 0.0246 - val_mse: 0.0013\n",
      "Epoch 17/20\n",
      "6/6 [==============================] - 0s 4ms/step - loss: 9.3473e-04 - mae: 0.0220 - mse: 9.3473e-04 - val_loss: 0.0012 - val_mae: 0.0232 - val_mse: 0.0012\n",
      "Epoch 18/20\n",
      "6/6 [==============================] - 0s 4ms/step - loss: 7.8927e-04 - mae: 0.0187 - mse: 7.8927e-04 - val_loss: 0.0010 - val_mae: 0.0204 - val_mse: 0.0010\n",
      "Epoch 19/20\n",
      "6/6 [==============================] - 0s 4ms/step - loss: 7.1016e-04 - mae: 0.0178 - mse: 7.1016e-04 - val_loss: 9.0698e-04 - val_mae: 0.0196 - val_mse: 9.0698e-04\n",
      "Epoch 20/20\n",
      "6/6 [==============================] - 0s 4ms/step - loss: 6.3878e-04 - mae: 0.0162 - mse: 6.3878e-04 - val_loss: 8.6327e-04 - val_mae: 0.0185 - val_mse: 8.6327e-04\n",
      "1/1 [==============================] - 0s 49ms/step\n"
     ]
    }
   ],
   "source": [
    "# Cell for everything except methods and anaylytics \n",
    "Model = Model()\n",
    "\n",
    "df = pd.read_csv('brain_weight.csv')\n",
    "\n",
    "Model.split_into_sets(df)\n",
    "Model.linearModel()\n",
    "sequentialModel = Model.createNetwork()\n",
    "t0 = tm.time()\n",
    "losses = Model.calculateLosses(sequentialModel)\n",
    "timeOfModel = tm.time() - t0"
   ]
  },
  {
   "cell_type": "markdown",
   "metadata": {},
   "source": [
    "### Determining best batch and epoch size for lowest MSE/MAE\n",
    "### Prev Epochs:\n",
    "* BS: 35 | EP: 20 .0826 ***\n",
    "* BS: 30 | EP: 20 .0868\n",
    "* BS: 50 | EP: 15 .0921\n",
    "* BS: 35 | EP: 25 .0921\n",
    "* BS: 20 | EP: 25 .0921\n",
    "<br>\n",
    "\n",
    "#### Since we achieved the best result with a batch-size of 35, and 20 epochs; that is the specifications we are going to choose.\n",
    "<br>\n",
    "\n",
    "### Now we will perform the analytics on our model:"
   ]
  },
  {
   "cell_type": "code",
   "execution_count": 4,
   "metadata": {},
   "outputs": [
    {
     "data": {
      "image/png": "[encoded data removed]",
      "text/plain": [
       "<Figure size 640x480 with 1 Axes>"
      ]
     },
     "metadata": {},
     "output_type": "display_data"
    }
   ],
   "source": [
    "Model.plotting(losses)"
   ]
  },
  {
   "cell_type": "code",
   "execution_count": 5,
   "metadata": {},
   "outputs": [
    {
     "name": "stdout",
     "output_type": "stream",
     "text": [
      "2/2 [==============================] - 0s 1ms/step\n",
      "Speed of Model (s):  0.9326\n",
      "Mean Absolute Error:  0.0185\n",
      "Mean Squared Error:  0.0009\n",
      "Pearson Correlation:  0.9872\n"
     ]
    }
   ],
   "source": [
    "Model.analysis(timeOfModel, sequentialModel)"
   ]
  },
  {
   "cell_type": "markdown",
   "metadata": {},
   "source": [
    "### Analysis:\n",
    "\n",
    "##### MSE/MAE: As we can see, with a Mean Absolute Error of .021 and a Mean Squared error of .0007 our model is very accurate with only 3 layers in the neural network.\n",
    "\n",
    "##### Pearson Correlation (-1 < P_val > 1): Since we are using a regression based model, and not classification, I find it better to use a Pearson Correlation rather than accuracy. The Pearson Correlation measures a parametric correlation on a distribution of linear data. With a value of .9909, our model is extremely good at predicting the weight of someone's brain."
   ]
  }
 ],
 "metadata": {
  "kernelspec": {
   "display_name": "Python 3.9.12 ('base')",
   "language": "python",
   "name": "python3"
  },
  "language_info": {
   "codemirror_mode": {
    "name": "ipython",
    "version": 3
   },
   "file_extension": ".py",
   "mimetype": "text/x-python",
   "name": "python",
   "nbconvert_exporter": "python",
   "pygments_lexer": "ipython3",
   "version": "3.9.13"
  },
  "orig_nbformat": 4,
  "vscode": {
   "interpreter": {
    "hash": "cd78fef2128015050713e82ca51c6520b11aee7c9ee8df750520bbbc7384cbaa"
   }
  }
 },
 "nbformat": 4,
 "nbformat_minor": 2
}
