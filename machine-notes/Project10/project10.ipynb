{
 "cells": [
  {
   "cell_type": "markdown",
   "metadata": {},
   "source": [
    "### Mason Manca\n",
    "### CPSC 323\n",
    "### Prof. Morehead\n",
    "### 10 November 2022\n",
    "# <center>Neural Network 2 </center>"
   ]
  },
  {
   "cell_type": "code",
   "execution_count": 64,
   "metadata": {},
   "outputs": [],
   "source": [
    "# Cell for importing python modules/libraries\n",
    "import os\n",
    "import tensorflow as tf\n",
    "os.environ['TF_CPP_MIN_LOG_LEVEL'] = '2'\n",
    "import pandas as pd\n",
    "import numpy as np\n",
    "import time as tm\n",
    "import tensorflow as tf\n",
    "from tensorflow import keras \n",
    "from tensorflow.keras import layers\n",
    "from sklearn.metrics import confusion_matrix\n",
    "import matplotlib.pyplot as plt\n",
    "from sklearn import metrics\n",
    "from scipy.stats import pearsonr\n",
    "from sklearn.model_selection import train_test_split\n"
   ]
  },
  {
   "cell_type": "code",
   "execution_count": 65,
   "metadata": {},
   "outputs": [],
   "source": [
    "class Model():\n",
    "    # Initializing variables\n",
    "    def __init__(self):\n",
    "        self.X_val = self.y_val = self.train_df = self.val_df = self.X_train = self.X_test = self.y_train = self.y_test = pd.DataFrame()\n",
    "        self.X_rem = self.y_rem = pd.DataFrame()\n",
    "        self.num_features = []\n",
    "    \n",
    "    def split_into_sets(self,df):\n",
    "\n",
    "        self.train_df = df.sample(frac=0.75, random_state=4)\n",
    "        self.val_df = df.drop(self.train_df.index)\n",
    "        \n",
    "        max_val = self.train_df.max(axis= 0)\n",
    "        min_val = self.train_df.min(axis= 0)\n",
    " \n",
    "        # Scaling our data so it is in the same range\n",
    "        range = max_val - min_val\n",
    "        self.train_df = (self.train_df - min_val)/(range)\n",
    " \n",
    "        self.val_df =  (self.val_df- min_val)/range\n",
    "\n",
    "        #Splitting the data into training, testing and validation data\n",
    "        self.X_train, self.X_rem, self.y_train, self.y_rem = train_test_split(self.train_df.drop('Brain Weight(grams)',axis=1), self.train_df['Brain Weight(grams)'], test_size=0.2, random_state=4)\n",
    " \n",
    "        self.X_test, self.X_val, self.y_test, self.y_val = train_test_split(self.X_rem, self.y_rem, test_size=0.5, random_state=4)\n",
    "        \n",
    "\n",
    "        \n",
    "        self.num_features = [self.X_train.shape[1]]\n",
    "\n",
    "        print(self.num_features)\n",
    "    \n",
    "    def validation(self, df, losses, sequentialModel):\n",
    "        # Compute analytics\n",
    "        size = len(df)\n",
    "        num_batches = 35\n",
    "        valid_loss, right = 0,0\n",
    "\n",
    "        with torch.no_grad():\n",
    "            for df['Head Size(cm^3)'] in range(0, size, num_batches):\n",
    "                X_val, y_val = df['Head Size(cm^3)'].to(device), df['Brain Weight(grams)'].to(device)\n",
    "                output = sequentialModel(X_val)\n",
    "                valid_loss += loss_fn(output, y_val)\n",
    "                right += (output.argmax(1) == y_val).type(torch.float).sum().item()\n",
    "\n",
    "    def linearModel(self):\n",
    "        model = tf.keras.Sequential([\n",
    "        tf.keras.layers.Dense(units=1,input_shape=self.num_features)])\n",
    "\n",
    "    def createNetwork(self):\n",
    "        sequentialModel = tf.keras.Sequential([\n",
    " \n",
    "        tf.keras.layers.Dense(units=64, activation='relu', input_shape=self.num_features),\n",
    "        tf.keras.layers.Dense(units=64, activation='relu'),\n",
    "        tf.keras.layers.Dense(units=1)])\n",
    "        \n",
    "        sequentialModel.compile(optimizer='adam',loss='mse',metrics=['mae','mse'])\n",
    "        sequentialModel.summary()\n",
    "        return sequentialModel\n",
    "\n",
    "    def calculateLosses(self, sequentialModel):\n",
    "        losses = sequentialModel.fit(self.X_train, self.y_train, \n",
    "        validation_data=(self.X_test, self.y_test),batch_size=35,epochs=20) # number of epochs\n",
    "\n",
    "        sequentialModel.predict(self.X_test.iloc[0:3, :])\n",
    "        return losses\n",
    "\n",
    "    def plotting(self, losses):\n",
    "        \n",
    "        loss_df = pd.DataFrame(losses.history)\n",
    "        loss_df.loc[:,['loss','val_loss']].plot()\n",
    "        plt.title('Loss')\n",
    "\n",
    "    def analysis(self,timeOfModel, sequentialModel):\n",
    "        # Compute analytics\n",
    "        y_pred = sequentialModel.predict(self.X_test)\n",
    "        scores = sequentialModel.evaluate(self.X_test, self.y_test, verbose=0)\n",
    "        pearson_val = float(pearsonr(self.y_test, y_pred)[0])\n",
    "        \n",
    "        # Print analytics\n",
    "        print(\"Speed of Model (s): \", round(timeOfModel,4))\n",
    "        print(\"Mean Absolute Error: \", round(scores[1],4))\n",
    "        print(\"Mean Squared Error: \", round(scores[2],4))\n",
    "        print(\"Pearson Correlation: \", round(pearson_val,4))    \n"
   ]
  },
  {
   "cell_type": "code",
   "execution_count": 66,
   "metadata": {},
   "outputs": [
    {
     "name": "stdout",
     "output_type": "stream",
     "text": [
      "[3]\n",
      "Model: \"sequential_25\"\n",
      "_________________________________________________________________\n",
      " Layer (type)                Output Shape              Param #   \n",
      "=================================================================\n",
      " dense_49 (Dense)            (None, 64)                256       \n",
      "                                                                 \n",
      " dense_50 (Dense)            (None, 64)                4160      \n",
      "                                                                 \n",
      " dense_51 (Dense)            (None, 1)                 65        \n",
      "                                                                 \n",
      "=================================================================\n",
      "Total params: 4,481\n",
      "Trainable params: 4,481\n",
      "Non-trainable params: 0\n",
      "_________________________________________________________________\n",
      "Epoch 1/20\n",
      "5/5 [==============================] - 0s 24ms/step - loss: 0.1867 - mae: 0.3742 - mse: 0.1867 - val_loss: 0.0846 - val_mae: 0.2333 - val_mse: 0.0846\n",
      "Epoch 2/20\n",
      "5/5 [==============================] - 0s 6ms/step - loss: 0.1012 - mae: 0.2589 - mse: 0.1012 - val_loss: 0.0533 - val_mae: 0.1766 - val_mse: 0.0533\n",
      "Epoch 3/20\n",
      "5/5 [==============================] - 0s 5ms/step - loss: 0.0714 - mae: 0.2180 - mse: 0.0714 - val_loss: 0.0456 - val_mae: 0.1808 - val_mse: 0.0456\n",
      "Epoch 4/20\n",
      "5/5 [==============================] - 0s 6ms/step - loss: 0.0541 - mae: 0.1907 - mse: 0.0541 - val_loss: 0.0365 - val_mae: 0.1693 - val_mse: 0.0365\n",
      "Epoch 5/20\n",
      "5/5 [==============================] - 0s 7ms/step - loss: 0.0400 - mae: 0.1660 - mse: 0.0400 - val_loss: 0.0289 - val_mae: 0.1546 - val_mse: 0.0289\n",
      "Epoch 6/20\n",
      "5/5 [==============================] - 0s 5ms/step - loss: 0.0296 - mae: 0.1419 - mse: 0.0296 - val_loss: 0.0196 - val_mae: 0.1270 - val_mse: 0.0196\n",
      "Epoch 7/20\n",
      "5/5 [==============================] - 0s 6ms/step - loss: 0.0214 - mae: 0.1184 - mse: 0.0214 - val_loss: 0.0160 - val_mae: 0.1174 - val_mse: 0.0160\n",
      "Epoch 8/20\n",
      "5/5 [==============================] - 0s 6ms/step - loss: 0.0178 - mae: 0.1076 - mse: 0.0178 - val_loss: 0.0165 - val_mae: 0.1171 - val_mse: 0.0165\n",
      "Epoch 9/20\n",
      "5/5 [==============================] - 0s 7ms/step - loss: 0.0168 - mae: 0.1034 - mse: 0.0168 - val_loss: 0.0178 - val_mae: 0.1170 - val_mse: 0.0178\n",
      "Epoch 10/20\n",
      "5/5 [==============================] - 0s 5ms/step - loss: 0.0161 - mae: 0.1017 - mse: 0.0161 - val_loss: 0.0137 - val_mae: 0.1007 - val_mse: 0.0137\n",
      "Epoch 11/20\n",
      "5/5 [==============================] - 0s 7ms/step - loss: 0.0148 - mae: 0.0962 - mse: 0.0148 - val_loss: 0.0100 - val_mae: 0.0837 - val_mse: 0.0100\n",
      "Epoch 12/20\n",
      "5/5 [==============================] - 0s 6ms/step - loss: 0.0141 - mae: 0.0942 - mse: 0.0141 - val_loss: 0.0097 - val_mae: 0.0818 - val_mse: 0.0097\n",
      "Epoch 13/20\n",
      "5/5 [==============================] - 0s 6ms/step - loss: 0.0135 - mae: 0.0920 - mse: 0.0135 - val_loss: 0.0100 - val_mae: 0.0831 - val_mse: 0.0100\n",
      "Epoch 14/20\n",
      "5/5 [==============================] - 0s 6ms/step - loss: 0.0133 - mae: 0.0914 - mse: 0.0133 - val_loss: 0.0089 - val_mae: 0.0773 - val_mse: 0.0089\n",
      "Epoch 15/20\n",
      "5/5 [==============================] - 0s 6ms/step - loss: 0.0133 - mae: 0.0903 - mse: 0.0133 - val_loss: 0.0082 - val_mae: 0.0734 - val_mse: 0.0082\n",
      "Epoch 16/20\n",
      "5/5 [==============================] - 0s 6ms/step - loss: 0.0132 - mae: 0.0920 - mse: 0.0132 - val_loss: 0.0126 - val_mae: 0.0922 - val_mse: 0.0126\n",
      "Epoch 17/20\n",
      "5/5 [==============================] - 0s 6ms/step - loss: 0.0138 - mae: 0.0949 - mse: 0.0138 - val_loss: 0.0102 - val_mae: 0.0820 - val_mse: 0.0102\n",
      "Epoch 18/20\n",
      "5/5 [==============================] - 0s 7ms/step - loss: 0.0132 - mae: 0.0924 - mse: 0.0132 - val_loss: 0.0068 - val_mae: 0.0665 - val_mse: 0.0068\n",
      "Epoch 19/20\n",
      "5/5 [==============================] - 0s 7ms/step - loss: 0.0134 - mae: 0.0923 - mse: 0.0134 - val_loss: 0.0074 - val_mae: 0.0701 - val_mse: 0.0074\n",
      "Epoch 20/20\n",
      "5/5 [==============================] - 0s 6ms/step - loss: 0.0125 - mae: 0.0892 - mse: 0.0125 - val_loss: 0.0112 - val_mae: 0.0864 - val_mse: 0.0112\n",
      "1/1 [==============================] - 0s 37ms/step\n"
     ]
    }
   ],
   "source": [
    "# Cell for everything except methods and anaylytics \n",
    "Model = Model()\n",
    "\n",
    "df = pd.read_csv('brain_weight.csv')\n",
    "\n",
    "Model.split_into_sets(df)\n",
    "Model.linearModel()\n",
    "sequentialModel = Model.createNetwork()\n",
    "t0 = tm.time()\n",
    "losses = Model.calculateLosses(sequentialModel)\n",
    "timeOfModel = tm.time() - t0"
   ]
  },
  {
   "cell_type": "code",
   "execution_count": 67,
   "metadata": {},
   "outputs": [
    {
     "data": {
      "image/png": "[encoded data removed]",
      "text/plain": [
       "<Figure size 640x480 with 1 Axes>"
      ]
     },
     "metadata": {},
     "output_type": "display_data"
    }
   ],
   "source": [
    "Model.plotting(losses)"
   ]
  },
  {
   "cell_type": "code",
   "execution_count": 68,
   "metadata": {},
   "outputs": [
    {
     "name": "stdout",
     "output_type": "stream",
     "text": [
      "1/1 [==============================] - 0s 17ms/step\n",
      "Speed of Model (s):  0.9208\n",
      "Mean Absolute Error:  0.0864\n",
      "Mean Squared Error:  0.0112\n",
      "Pearson Correlation:  0.8766\n"
     ]
    }
   ],
   "source": [
    "Model.analysis(timeOfModel, sequentialModel)"
   ]
  },
  {
   "cell_type": "markdown",
   "metadata": {},
   "source": [
    "## Analysis:\n",
    "\n",
    "##### MSE/MAE: As we can see, with a Mean Absolute Error of .086 and a Mean Squared error of .011 our model is very accurate with only 3 layers in the neural network.\n",
    "\n",
    "##### Pearson Correlation (-1 < P_val > 1): Since we are using a regression based model, and not classification, I find it better to use a Pearson Correlation rather than accuracy. The Pearson Correlation measures a parametric correlation on a distribution of linear data. With a value of .876, our model is extremely good at predicting the weight of someone's brain.\n",
    "\n",
    "### Note: My model in project 9 seems to be more accurate than this one with the same dataset, I am wondering if this could be attributed to having less data to train with. Perhaps validating the model comes at the expense of having a less trained model."
   ]
  }
 ],
 "metadata": {
  "kernelspec": {
   "display_name": "Python 3.9.13 ('base')",
   "language": "python",
   "name": "python3"
  },
  "language_info": {
   "codemirror_mode": {
    "name": "ipython",
    "version": 3
   },
   "file_extension": ".py",
   "mimetype": "text/x-python",
   "name": "python",
   "nbconvert_exporter": "python",
   "pygments_lexer": "ipython3",
   "version": "3.9.13"
  },
  "orig_nbformat": 4,
  "vscode": {
   "interpreter": {
    "hash": "cd78fef2128015050713e82ca51c6520b11aee7c9ee8df750520bbbc7384cbaa"
   }
  }
 },
 "nbformat": 4,
 "nbformat_minor": 2
}
