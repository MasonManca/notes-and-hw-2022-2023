{
 "cells": [
  {
   "cell_type": "markdown",
   "metadata": {},
   "source": [
    "### Mason Manca\n",
    "### CPSC 323\n",
    "### Prof. Morehead\n",
    "### 17 November 2022\n",
    "# <center>Neural Network 2 </center>"
   ]
  },
  {
   "cell_type": "code",
   "execution_count": 9,
   "metadata": {},
   "outputs": [],
   "source": [
    "# Cell for importing python modules/libraries\n",
    "import os\n",
    "import tensorflow as tf\n",
    "os.environ['TF_CPP_MIN_LOG_LEVEL'] = '2'\n",
    "import pandas as pd\n",
    "import numpy as np\n",
    "import time as tm\n",
    "import tensorflow as tf\n",
    "from tensorflow import keras \n",
    "from tensorflow.keras import layers\n",
    "from sklearn.metrics import confusion_matrix\n",
    "import matplotlib.pyplot as plt\n",
    "from sklearn import metrics\n",
    "from scipy.stats import pearsonr\n",
    "from sklearn.model_selection import train_test_split\n"
   ]
  },
  {
   "cell_type": "code",
   "execution_count": 10,
   "metadata": {},
   "outputs": [],
   "source": [
    "class Model():\n",
    "    # Initializing variables\n",
    "    def __init__(self):\n",
    "        self.X_val = self.y_val = self.train_df = self.val_df = self.X_train = self.X_test = self.y_train = self.y_test = pd.DataFrame()\n",
    "        self.X_rem = self.y_rem = pd.DataFrame()\n",
    "        self.num_features = []\n",
    "    \n",
    "    def split_into_sets(self,df):\n",
    "\n",
    "        self.train_df = df.sample(frac=0.75, random_state=4)\n",
    "        self.val_df = df.drop(self.train_df.index)\n",
    "        \n",
    "        max_val = self.train_df.max(axis= 0)\n",
    "        min_val = self.train_df.min(axis= 0)\n",
    " \n",
    "        # Scaling our data so it is in the same range\n",
    "        range = max_val - min_val\n",
    "        self.train_df = (self.train_df - min_val)/(range)\n",
    " \n",
    "        self.val_df =  (self.val_df- min_val)/range\n",
    "\n",
    "        #Splitting the data into training, testing and validation data\n",
    "        self.X_train, self.X_rem, self.y_train, self.y_rem = train_test_split(self.train_df.drop('Brain Weight(grams)',axis=1), self.train_df['Brain Weight(grams)'], test_size=0.2, random_state=4)\n",
    " \n",
    "        self.X_test, self.X_val, self.y_test, self.y_val = train_test_split(self.X_rem, self.y_rem, test_size=0.5, random_state=4)\n",
    "        \n",
    "\n",
    "        \n",
    "        self.num_features = [self.X_train.shape[1]]\n",
    "\n",
    "        print(self.num_features)\n",
    "    \n",
    "    def validation(self, df, losses, sequentialModel):\n",
    "        # Compute analytics\n",
    "        size = len(df)\n",
    "        num_batches = 35\n",
    "        valid_loss, right = 0,0\n",
    "\n",
    "        with torch.no_grad():\n",
    "            for df['Head Size(cm^3)'] in range(0, size, num_batches):\n",
    "                X_val, y_val = df['Head Size(cm^3)'].to(device), df['Brain Weight(grams)'].to(device)\n",
    "                output = sequentialModel(X_val)\n",
    "                valid_loss += loss_fn(output, y_val)\n",
    "                right += (output.argmax(1) == y_val).type(torch.float).sum().item()\n",
    "\n",
    "    def linearModel(self):\n",
    "        model = tf.keras.Sequential([\n",
    "        tf.keras.layers.Dense(units=1,input_shape=self.num_features)])\n",
    "\n",
    "    def createNetwork(self):\n",
    "        sequentialModel = tf.keras.Sequential([\n",
    " \n",
    "        tf.keras.layers.Dense(units=64, activation='relu', input_shape=self.num_features),\n",
    "        tf.keras.layers.Dense(units=64, activation='relu'),\n",
    "        tf.keras.layers.Dense(units=1)])\n",
    "        \n",
    "        sequentialModel.compile(optimizer='adam',loss='mse',metrics=['mae','mse'])\n",
    "        sequentialModel.summary()\n",
    "        return sequentialModel\n",
    "\n",
    "    def calculateLosses(self, sequentialModel):\n",
    "        losses = sequentialModel.fit(self.X_train, self.y_train, \n",
    "        validation_data=(self.X_test, self.y_test),batch_size=35,epochs=20) # number of epochs\n",
    "\n",
    "        sequentialModel.predict(self.X_test.iloc[0:3, :])\n",
    "        return losses\n",
    "\n",
    "    def plotting(self, losses):\n",
    "        \n",
    "        loss_df = pd.DataFrame(losses.history)\n",
    "        loss_df.loc[:,['loss','val_loss']].plot()\n",
    "        plt.title('Loss')\n",
    "\n",
    "    def analysis(self,timeOfModel, sequentialModel):\n",
    "        # Compute analytics\n",
    "        y_pred = sequentialModel.predict(self.X_test)\n",
    "        scores = sequentialModel.evaluate(self.X_test, self.y_test, verbose=0)\n",
    "        pearson_val = float(pearsonr(self.y_test, y_pred)[0])\n",
    "        \n",
    "        # Print analytics\n",
    "        print(\"Speed of Model (s): \", round(timeOfModel,4))\n",
    "        print(\"Mean Absolute Error: \", round(scores[1],4))\n",
    "        print(\"Mean Squared Error: \", round(scores[2],4))\n",
    "        print(\"Pearson Correlation: \", round(pearson_val,4))    \n"
   ]
  },
  {
   "cell_type": "code",
   "execution_count": 11,
   "metadata": {},
   "outputs": [
    {
     "name": "stdout",
     "output_type": "stream",
     "text": [
      "[3]\n",
      "Model: \"sequential_3\"\n",
      "_________________________________________________________________\n",
      " Layer (type)                Output Shape              Param #   \n",
      "=================================================================\n",
      " dense_5 (Dense)             (None, 64)                256       \n",
      "                                                                 \n",
      " dense_6 (Dense)             (None, 64)                4160      \n",
      "                                                                 \n",
      " dense_7 (Dense)             (None, 1)                 65        \n",
      "                                                                 \n",
      "=================================================================\n",
      "Total params: 4,481\n",
      "Trainable params: 4,481\n",
      "Non-trainable params: 0\n",
      "_________________________________________________________________\n",
      "Epoch 1/20\n",
      "5/5 [==============================] - 0s 23ms/step - loss: 0.1740 - mae: 0.3536 - mse: 0.1740 - val_loss: 0.0730 - val_mae: 0.2027 - val_mse: 0.0730\n",
      "Epoch 2/20\n",
      "5/5 [==============================] - 0s 5ms/step - loss: 0.0866 - mae: 0.2385 - mse: 0.0866 - val_loss: 0.0444 - val_mae: 0.1728 - val_mse: 0.0444\n",
      "Epoch 3/20\n",
      "5/5 [==============================] - 0s 5ms/step - loss: 0.0570 - mae: 0.1977 - mse: 0.0570 - val_loss: 0.0449 - val_mae: 0.1906 - val_mse: 0.0449\n",
      "Epoch 4/20\n",
      "5/5 [==============================] - 0s 5ms/step - loss: 0.0500 - mae: 0.1892 - mse: 0.0500 - val_loss: 0.0399 - val_mae: 0.1803 - val_mse: 0.0399\n",
      "Epoch 5/20\n",
      "5/5 [==============================] - 0s 5ms/step - loss: 0.0376 - mae: 0.1643 - mse: 0.0376 - val_loss: 0.0283 - val_mae: 0.1489 - val_mse: 0.0283\n",
      "Epoch 6/20\n",
      "5/5 [==============================] - 0s 5ms/step - loss: 0.0256 - mae: 0.1329 - mse: 0.0256 - val_loss: 0.0173 - val_mae: 0.1161 - val_mse: 0.0173\n",
      "Epoch 7/20\n",
      "5/5 [==============================] - 0s 5ms/step - loss: 0.0181 - mae: 0.1088 - mse: 0.0181 - val_loss: 0.0114 - val_mae: 0.0932 - val_mse: 0.0114\n",
      "Epoch 8/20\n",
      "5/5 [==============================] - 0s 5ms/step - loss: 0.0159 - mae: 0.0998 - mse: 0.0159 - val_loss: 0.0095 - val_mae: 0.0800 - val_mse: 0.0095\n",
      "Epoch 9/20\n",
      "5/5 [==============================] - 0s 5ms/step - loss: 0.0150 - mae: 0.0972 - mse: 0.0150 - val_loss: 0.0109 - val_mae: 0.0854 - val_mse: 0.0109\n",
      "Epoch 10/20\n",
      "5/5 [==============================] - 0s 5ms/step - loss: 0.0141 - mae: 0.0959 - mse: 0.0141 - val_loss: 0.0134 - val_mae: 0.0969 - val_mse: 0.0134\n",
      "Epoch 11/20\n",
      "5/5 [==============================] - 0s 5ms/step - loss: 0.0139 - mae: 0.0950 - mse: 0.0139 - val_loss: 0.0120 - val_mae: 0.0902 - val_mse: 0.0120\n",
      "Epoch 12/20\n",
      "5/5 [==============================] - 0s 5ms/step - loss: 0.0133 - mae: 0.0922 - mse: 0.0133 - val_loss: 0.0103 - val_mae: 0.0813 - val_mse: 0.0103\n",
      "Epoch 13/20\n",
      "5/5 [==============================] - 0s 6ms/step - loss: 0.0128 - mae: 0.0898 - mse: 0.0128 - val_loss: 0.0085 - val_mae: 0.0738 - val_mse: 0.0085\n",
      "Epoch 14/20\n",
      "5/5 [==============================] - 0s 5ms/step - loss: 0.0132 - mae: 0.0914 - mse: 0.0132 - val_loss: 0.0061 - val_mae: 0.0622 - val_mse: 0.0061\n",
      "Epoch 15/20\n",
      "5/5 [==============================] - 0s 5ms/step - loss: 0.0133 - mae: 0.0907 - mse: 0.0133 - val_loss: 0.0063 - val_mae: 0.0618 - val_mse: 0.0063\n",
      "Epoch 16/20\n",
      "5/5 [==============================] - 0s 5ms/step - loss: 0.0130 - mae: 0.0889 - mse: 0.0130 - val_loss: 0.0069 - val_mae: 0.0634 - val_mse: 0.0069\n",
      "Epoch 17/20\n",
      "5/5 [==============================] - 0s 5ms/step - loss: 0.0125 - mae: 0.0872 - mse: 0.0125 - val_loss: 0.0076 - val_mae: 0.0670 - val_mse: 0.0076\n",
      "Epoch 18/20\n",
      "5/5 [==============================] - 0s 5ms/step - loss: 0.0122 - mae: 0.0864 - mse: 0.0122 - val_loss: 0.0083 - val_mae: 0.0726 - val_mse: 0.0083\n",
      "Epoch 19/20\n",
      "5/5 [==============================] - 0s 5ms/step - loss: 0.0121 - mae: 0.0857 - mse: 0.0121 - val_loss: 0.0086 - val_mae: 0.0752 - val_mse: 0.0086\n",
      "Epoch 20/20\n",
      "5/5 [==============================] - 0s 5ms/step - loss: 0.0121 - mae: 0.0861 - mse: 0.0121 - val_loss: 0.0079 - val_mae: 0.0717 - val_mse: 0.0079\n",
      "1/1 [==============================] - 0s 34ms/step\n"
     ]
    }
   ],
   "source": [
    "# Cell for everything except methods and anaylytics \n",
    "Model = Model()\n",
    "\n",
    "df = pd.read_csv('brain_weight.csv')\n",
    "\n",
    "Model.split_into_sets(df)\n",
    "Model.linearModel()\n",
    "sequentialModel = Model.createNetwork()\n",
    "t0 = tm.time()\n",
    "losses = Model.calculateLosses(sequentialModel)\n",
    "timeOfModel = tm.time() - t0"
   ]
  },
  {
   "cell_type": "code",
   "execution_count": 12,
   "metadata": {},
   "outputs": [
    {
     "data": {
      "image/png": "[encoded data removed]",
      "text/plain": [
       "<Figure size 640x480 with 1 Axes>"
      ]
     },
     "metadata": {},
     "output_type": "display_data"
    }
   ],
   "source": [
    "Model.plotting(losses)"
   ]
  },
  {
   "cell_type": "code",
   "execution_count": 13,
   "metadata": {},
   "outputs": [
    {
     "name": "stdout",
     "output_type": "stream",
     "text": [
      "1/1 [==============================] - 0s 19ms/step\n",
      "Speed of Model (s):  0.8085\n",
      "Mean Absolute Error:  0.0717\n",
      "Mean Squared Error:  0.0079\n",
      "Pearson Correlation:  0.8641\n"
     ]
    }
   ],
   "source": [
    "Model.analysis(timeOfModel, sequentialModel)"
   ]
  },
  {
   "cell_type": "markdown",
   "metadata": {},
   "source": [
    "## Analysis:\n",
    "\n",
    "##### MSE/MAE: As we can see, with a Mean Absolute Error of .086 and a Mean Squared error of .011 our model is very accurate with only 3 layers in the neural network.\n",
    "\n",
    "##### Pearson Correlation (-1 < P_val > 1): Since we are using a regression based model, and not classification, I find it better to use a Pearson Correlation rather than accuracy. The Pearson Correlation measures a parametric correlation on a distribution of linear data. With a value of .876, our model is extremely good at predicting the weight of someone's brain.\n",
    "\n",
    "### Note: My model in project 9 seems to be more accurate than this one with the same dataset, I am wondering if this could be attributed to having less data to train with. Perhaps validating the model comes at the expense of having a less trained model."
   ]
  }
 ],
 "metadata": {
  "kernelspec": {
   "display_name": "Python 3.9.13 ('base')",
   "language": "python",
   "name": "python3"
  },
  "language_info": {
   "codemirror_mode": {
    "name": "ipython",
    "version": 3
   },
   "file_extension": ".py",
   "mimetype": "text/x-python",
   "name": "python",
   "nbconvert_exporter": "python",
   "pygments_lexer": "ipython3",
   "version": "3.9.13"
  },
  "orig_nbformat": 4,
  "vscode": {
   "interpreter": {
    "hash": "cd78fef2128015050713e82ca51c6520b11aee7c9ee8df750520bbbc7384cbaa"
   }
  }
 },
 "nbformat": 4,
 "nbformat_minor": 2
}
