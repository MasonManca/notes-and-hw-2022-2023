{
 "cells": [
  {
   "cell_type": "markdown",
   "metadata": {},
   "source": [
    "### Mason Manca\n",
    "### CPSC 323\n",
    "### Prof. Morehead\n",
    "### 17 November 2022\n",
    "# <center>Neural Network 3 </center>"
   ]
  },
  {
   "cell_type": "code",
   "execution_count": 4,
   "metadata": {},
   "outputs": [],
   "source": [
    "# Cell for importing python modules/libraries\n",
    "import os \n",
    "import time as time\n",
    "import numpy as np \n",
    "import pandas as pd\n",
    "import tensorflow as tf \n",
    "from tensorflow import keras \n",
    "from tensorflow.keras import layers\n",
    "from keras.datasets import mnist\n",
    "from keras.utils import to_categorical\n",
    "from keras.models import Sequential\n",
    "from keras.models import load_model\n",
    "from keras.layers import Dense \n",
    "from keras.layers import Activation\n",
    "from scipy.stats import pearsonr\n",
    "import matplotlib.image as mpimg\n",
    "import matplotlib.pyplot as plt\n"
   ]
  },
  {
   "cell_type": "code",
   "execution_count": 5,
   "metadata": {},
   "outputs": [],
   "source": [
    "class Model():\n",
    "    # Initializing variables\n",
    "    def __init__(self):\n",
    "        self.X_train = self.y_train = self.X_test = self.y_test = pd.DataFrame()\n",
    "        self.train_time = 0\n",
    "        self.model = None\n",
    "        self.previous_epoch = None\n",
    "    \n",
    "    def split_into_sets(self):\n",
    "        (self.X_train, self.y_train), (self.X_test, self.y_test) = mnist.load_data() # data set consisting of number classification images\n",
    "        flattened_train = [to_categorical(self.y_train[i], num_classes=10) for i in range(len(self.y_train))] # one hot encoding\n",
    "        flattened_test = [to_categorical(self.y_test[i], num_classes=10) for i in range(len(self.y_test))] \n",
    "        self.y_train = np.array(flattened_train)\n",
    "        self.y_test = np.array(flattened_test)\n",
    "        \n",
    "    def createNetwork(self):\n",
    "        train_start = time.time()\n",
    "        self.model = keras.Sequential([\n",
    "        keras.layers.Flatten(input_shape=(28, 28)),\n",
    "        keras.layers.Dense(8, activation='sigmoid'),\n",
    "        keras.layers.Dense(10, activation='softmax')\n",
    "        ])\n",
    "\n",
    "        self.model.compile(loss='categorical_crossentropy', optimizer=keras.optimizers.Adam(0.001), metrics=['accuracy', 'mae', 'mse'])\n",
    "\n",
    "        checkpoint_path = \"./epoch_history/cp.ckpt\"\n",
    "        checkpoint_dir = os.path.dirname(checkpoint_path)\n",
    "        callback = keras.callbacks.ModelCheckpoint(filepath=checkpoint_path, save_weights_only=True, monitor='val_accuracy', mode='max', save_best_only=True)\n",
    "\n",
    "        self.model.summary()\n",
    "        self.previous_epoch = self.model.fit(self.X_train, self.y_train, epochs=15, validation_split=0.2, callbacks=callback)\n",
    "        train_end = time.time()\n",
    "        self.train_time = train_end - train_start\n",
    "\n",
    "    def plotting(self):\n",
    "        plt.figure()\n",
    "        fig, ax = plt.subplots(2,1)\n",
    "        ax[0].plot(self.previous_epoch.history['loss'], color='b', label=\"Training Loss\")\n",
    "        ax[0].plot(self.previous_epoch.history['val_loss'], color='r', label=\"Validation Loss\",axes =ax[0])\n",
    "        legend = ax[0].legend(loc='best', shadow=True)\n",
    "\n",
    "        ax[1].plot(self.previous_epoch.history['accuracy'], color='b', label=\"Training Accuracy\")\n",
    "        ax[1].plot(self.previous_epoch.history['val_accuracy'], color='r',label=\"Validation Accuracy\")\n",
    "        legend = ax[1].legend(loc='best', shadow=True)\n",
    "        plt.show()\n",
    "\n",
    "    def analysis(self):\n",
    "        # Compute analytics\n",
    "        train_score = self.model.evaluate(self.X_train, self.y_train, verbose=0)\n",
    "        test_score = self.model.evaluate(self.X_test, self.y_test, verbose=0)\n",
    "\n",
    "        y_pred = self.model.predict(self.X_test)\n",
    "        scores = self.model.evaluate(self.X_test, self.y_test, verbose=0)\n",
    "\n",
    "\n",
    "        print(\"Testing Accuracy:\", round(test_score[1],3))\n",
    "        print(\"Speed of Model (s): \", (round(self.train_time,4)))\n",
    "        print(\"Mean Absolute Error: \", round(scores[1],4))\n",
    "        print(\"Mean Squared Error: \", round(scores[2],4))\n",
    "\n",
    "   \n"
   ]
  },
  {
   "cell_type": "code",
   "execution_count": 6,
   "metadata": {},
   "outputs": [
    {
     "name": "stdout",
     "output_type": "stream",
     "text": [
      "Model: \"sequential\"\n",
      "_________________________________________________________________\n",
      " Layer (type)                Output Shape              Param #   \n",
      "=================================================================\n",
      " flatten (Flatten)           (None, 784)               0         \n",
      "                                                                 \n",
      " dense (Dense)               (None, 8)                 6280      \n",
      "                                                                 \n",
      " dense_1 (Dense)             (None, 10)                90        \n",
      "                                                                 \n",
      "=================================================================\n",
      "Total params: 6,370\n",
      "Trainable params: 6,370\n",
      "Non-trainable params: 0\n",
      "_________________________________________________________________\n",
      "Epoch 1/15\n"
     ]
    },
    {
     "name": "stderr",
     "output_type": "stream",
     "text": [
      "2022-11-27 16:26:05.883742: I tensorflow/core/platform/cpu_feature_guard.cc:193] This TensorFlow binary is optimized with oneAPI Deep Neural Network Library (oneDNN) to use the following CPU instructions in performance-critical operations:  SSE4.1 SSE4.2\n",
      "To enable them in other operations, rebuild TensorFlow with the appropriate compiler flags.\n"
     ]
    },
    {
     "name": "stdout",
     "output_type": "stream",
     "text": [
      "1500/1500 [==============================] - 1s 798us/step - loss: 1.4923 - accuracy: 0.5757 - mae: 0.1461 - mse: 0.0654 - val_loss: 1.0110 - val_accuracy: 0.7416 - val_mae: 0.1153 - val_mse: 0.0460\n",
      "Epoch 2/15\n",
      "1500/1500 [==============================] - 1s 716us/step - loss: 0.9025 - accuracy: 0.7455 - mae: 0.1006 - mse: 0.0406 - val_loss: 0.7712 - val_accuracy: 0.7788 - val_mae: 0.0856 - val_mse: 0.0345\n",
      "Epoch 3/15\n",
      "1500/1500 [==============================] - 1s 770us/step - loss: 0.7303 - accuracy: 0.7873 - mae: 0.0783 - mse: 0.0324 - val_loss: 0.6399 - val_accuracy: 0.8165 - val_mae: 0.0687 - val_mse: 0.0279\n",
      "Epoch 4/15\n",
      "1500/1500 [==============================] - 1s 780us/step - loss: 0.6829 - accuracy: 0.7963 - mae: 0.0704 - mse: 0.0304 - val_loss: 0.6276 - val_accuracy: 0.8100 - val_mae: 0.0644 - val_mse: 0.0275\n",
      "Epoch 5/15\n",
      "1500/1500 [==============================] - 1s 782us/step - loss: 0.6361 - accuracy: 0.8093 - mae: 0.0630 - mse: 0.0279 - val_loss: 0.5719 - val_accuracy: 0.8365 - val_mae: 0.0574 - val_mse: 0.0247\n",
      "Epoch 6/15\n",
      "1500/1500 [==============================] - 1s 754us/step - loss: 0.6209 - accuracy: 0.8178 - mae: 0.0605 - mse: 0.0274 - val_loss: 0.6188 - val_accuracy: 0.8198 - val_mae: 0.0601 - val_mse: 0.0275\n",
      "Epoch 7/15\n",
      "1500/1500 [==============================] - 1s 730us/step - loss: 0.5955 - accuracy: 0.8268 - mae: 0.0576 - mse: 0.0263 - val_loss: 0.5541 - val_accuracy: 0.8392 - val_mae: 0.0537 - val_mse: 0.0243\n",
      "Epoch 8/15\n",
      "1500/1500 [==============================] - 1s 731us/step - loss: 0.6070 - accuracy: 0.8179 - mae: 0.0580 - mse: 0.0269 - val_loss: 0.5539 - val_accuracy: 0.8305 - val_mae: 0.0532 - val_mse: 0.0242\n",
      "Epoch 9/15\n",
      "1500/1500 [==============================] - 1s 728us/step - loss: 0.5782 - accuracy: 0.8305 - mae: 0.0547 - mse: 0.0253 - val_loss: 0.5145 - val_accuracy: 0.8534 - val_mae: 0.0488 - val_mse: 0.0220\n",
      "Epoch 10/15\n",
      "1500/1500 [==============================] - 1s 758us/step - loss: 0.5514 - accuracy: 0.8401 - mae: 0.0521 - mse: 0.0240 - val_loss: 0.5139 - val_accuracy: 0.8518 - val_mae: 0.0497 - val_mse: 0.0223\n",
      "Epoch 11/15\n",
      "1500/1500 [==============================] - 1s 781us/step - loss: 0.5589 - accuracy: 0.8326 - mae: 0.0528 - mse: 0.0247 - val_loss: 0.5335 - val_accuracy: 0.8500 - val_mae: 0.0503 - val_mse: 0.0233\n",
      "Epoch 12/15\n",
      "1500/1500 [==============================] - 1s 729us/step - loss: 0.5486 - accuracy: 0.8403 - mae: 0.0512 - mse: 0.0240 - val_loss: 0.5020 - val_accuracy: 0.8519 - val_mae: 0.0465 - val_mse: 0.0219\n",
      "Epoch 13/15\n",
      "1500/1500 [==============================] - 1s 741us/step - loss: 0.5263 - accuracy: 0.8482 - mae: 0.0485 - mse: 0.0229 - val_loss: 0.5031 - val_accuracy: 0.8548 - val_mae: 0.0461 - val_mse: 0.0219\n",
      "Epoch 14/15\n",
      "1500/1500 [==============================] - 1s 743us/step - loss: 0.5262 - accuracy: 0.8523 - mae: 0.0485 - mse: 0.0228 - val_loss: 0.5054 - val_accuracy: 0.8538 - val_mae: 0.0466 - val_mse: 0.0221\n",
      "Epoch 15/15\n",
      "1500/1500 [==============================] - 1s 749us/step - loss: 0.5262 - accuracy: 0.8471 - mae: 0.0484 - mse: 0.0229 - val_loss: 0.4818 - val_accuracy: 0.8587 - val_mae: 0.0454 - val_mse: 0.0210\n"
     ]
    },
    {
     "data": {
      "text/plain": [
       "<Figure size 640x480 with 0 Axes>"
      ]
     },
     "metadata": {},
     "output_type": "display_data"
    },
    {
     "data": {
      "image/png": "[encoded data removed]",
      "text/plain": [
       "<Figure size 640x480 with 2 Axes>"
      ]
     },
     "metadata": {},
     "output_type": "display_data"
    }
   ],
   "source": [
    "# Cell for everything except methods\n",
    "Model = Model()\n",
    "Model.split_into_sets()\n",
    "Model.createNetwork()\n",
    "Model.plotting()\n"
   ]
  },
  {
   "cell_type": "markdown",
   "metadata": {},
   "source": [
    "### "
   ]
  },
  {
   "cell_type": "code",
   "execution_count": 7,
   "metadata": {},
   "outputs": [
    {
     "name": "stdout",
     "output_type": "stream",
     "text": [
      "313/313 [==============================] - 0s 398us/step\n",
      "Testing Accuracy: 0.862\n",
      "Speed of Model (s):  17.4098\n",
      "Mean Absolute Error:  0.8616\n",
      "Mean Squared Error:  0.0457\n"
     ]
    }
   ],
   "source": [
    "Model.analysis()"
   ]
  },
  {
   "cell_type": "markdown",
   "metadata": {},
   "source": [
    "## Analysis: \n",
    "#### My testing accuracy is a bit lower than I expected, especially compared to my previous projects with accuracy approaching 99%. I believe that this accuracy, MAE and MSE are lower than previously because it differs from my previous data set almost entirely. Not only is it multivaried classification (as opposed to binary classification) but it is not a regression model. I'm thinking that if I were to add a convolutional neural network then it would improve the accuracy and other analytics. Though, our model is decently accurate with an accuracy around 85% and a MSE of 0.05"
   ]
  }
 ],
 "metadata": {
  "kernelspec": {
   "display_name": "Python 3.9.13 ('base')",
   "language": "python",
   "name": "python3"
  },
  "language_info": {
   "codemirror_mode": {
    "name": "ipython",
    "version": 3
   },
   "file_extension": ".py",
   "mimetype": "text/x-python",
   "name": "python",
   "nbconvert_exporter": "python",
   "pygments_lexer": "ipython3",
   "version": "3.9.13"
  },
  "orig_nbformat": 4,
  "vscode": {
   "interpreter": {
    "hash": "cd78fef2128015050713e82ca51c6520b11aee7c9ee8df750520bbbc7384cbaa"
   }
  }
 },
 "nbformat": 4,
 "nbformat_minor": 2
}
